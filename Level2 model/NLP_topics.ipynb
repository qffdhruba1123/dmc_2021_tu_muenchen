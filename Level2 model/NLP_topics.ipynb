{
 "cells": [
  {
   "cell_type": "markdown",
   "metadata": {},
   "source": [
    "Import section"
   ]
  },
  {
   "cell_type": "code",
   "execution_count": 1,
   "metadata": {},
   "outputs": [],
   "source": [
    "import pandas as pd\n",
    "import csv\n",
    "import matplotlib as plt\n",
    "import matplotlib.pyplot as plt\n",
    "\n",
    "import numpy as np\n",
    "#import googletrans\n",
    "#from googletrans import Translator\n",
    "from google_trans_new import google_translator  \n",
    "import nltk\n",
    "#nltk.download()\n",
    "import os\n",
    "import nltk.corpus\n",
    "from nltk.tokenize import word_tokenize\n",
    "from nltk.corpus import stopwords\n",
    "from nltk.stem.porter import PorterStemmer\n",
    "from nltk.stem.snowball import SnowballStemmer\n",
    "from langdetect import detect\n",
    "from collections import Counter\n",
    "from itertools import combinations\n",
    "from sklearn.cluster import MiniBatchKMeans\n",
    "from sklearn.decomposition import PCA\n",
    "from sklearn.feature_extraction.text import TfidfVectorizer\n",
    "from sklearn.cluster import KMeans\n",
    "from sklearn.metrics import silhouette_score\n",
    "import sklearn.metrics as metrics\n",
    "from sklearn.feature_extraction.text import CountVectorizer\n",
    "import pickle"
   ]
  },
  {
   "cell_type": "code",
   "execution_count": 2,
   "metadata": {},
   "outputs": [],
   "source": [
    "def lower_case_titles(df):\n",
    "    df['title_tokenized_lower'] = \"empty\"\n",
    "    for i in range(0, len(items)):\n",
    "        help1 = [word.lower() for word in items.iloc[i]['title_tokenized']]\n",
    "        items.at[i, 'title_tokenized_lower'] = help1\n",
    "        print(i)\n",
    "    return items"
   ]
  },
  {
   "cell_type": "code",
   "execution_count": 3,
   "metadata": {},
   "outputs": [],
   "source": [
    "def delete_non_alphabetics(items):\n",
    "    items['title_tokenized_lower_isalpha'] = \"empty\"\n",
    "    # delete non-alphabetics\n",
    "    for i in range(0, len(items)):\n",
    "        help1 = [word for word in items.iloc[i]['title_tokenized_lower'] if word.isalpha()]\n",
    "        items.at[i, 'title_tokenized_lower_isalpha'] = help1\n",
    "        #print(i)\n",
    "    return items"
   ]
  },
  {
   "cell_type": "code",
   "execution_count": 4,
   "metadata": {},
   "outputs": [],
   "source": [
    "def delete_stopwords(items):\n",
    "    # feature: stopwords\n",
    "    items['title_tokenized_lower_isalpha_stopwords'] = 'empty'\n",
    "    for i in range(0, len(items)):\n",
    "        help1 = [word for word in items.iloc[i]['title_tokenized_lower_isalpha'] if not word in stop_words]\n",
    "        items.at[i, 'title_tokenized_lower_isalpha_stopwords'] = help1\n",
    "    return items "
   ]
  },
  {
   "cell_type": "code",
   "execution_count": 5,
   "metadata": {},
   "outputs": [],
   "source": [
    "# insert language feature and create stem words\n",
    "def language_and_stemwords(items):    \n",
    "    items['title_tokenized_lower_isalpha_stopwords_stemwords'] = 'empty'\n",
    "    items['language'] = 'empty'\n",
    "    # stemmer for english, german and french\n",
    "    stemmer_en = SnowballStemmer('english')\n",
    "    stemmer_de = SnowballStemmer('german')\n",
    "    stemmer_fr = SnowballStemmer('french')\n",
    "    stemmer_es = SnowballStemmer('spanish')\n",
    "    for i in range(0,len(items)):\n",
    "        title = items.iloc[i]['title']\n",
    "        if (len(title) >= 3) and (any(word.isalpha() for word in title) == True):\n",
    "            if (len(title.split()) ==1) and (title.isalnum() == False):\n",
    "                items.at[i, 'title_tokenized_lower_isalpha_stopwords_stemwords'] = 'NaN'\n",
    "                print(str(i) + ' ' + str(title) + ', title is problematic')\n",
    "            else:            \n",
    "                lang = detect(title)\n",
    "                items.at[i, 'language'] = lang\n",
    "                if lang == 'en':\n",
    "                    stemmed_en = [stemmer_en.stem(word) for word in items.iloc[i]['title_tokenized_lower_isalpha_stopwords']]\n",
    "                    items.at[i, 'title_tokenized_lower_isalpha_stopwords_stemwords'] = stemmed_en\n",
    "                    print(str(i) + ' en')\n",
    "                elif lang == 'de':\n",
    "                    stemmed_de = [stemmer_de.stem(word) for word in items.iloc[i]['title_tokenized_lower_isalpha_stopwords']]\n",
    "                    items.at[i, 'title_tokenized_lower_isalpha_stopwords_stemwords'] = stemmed_de \n",
    "                    print(str(i) + ' de')\n",
    "                elif (detect(title) == 'fr'):\n",
    "                    stemmed_fr = [stemmer_fr.stem(word) for word in items.iloc[i]['title_tokenized_lower_isalpha_stopwords']]\n",
    "                    items.at[i, 'title_tokenized_lower_isalpha_stopwords_stemwords'] = stemmed_fr\n",
    "                    print(str(i) + ' fr')\n",
    "                elif (detect(title) == 'es'):\n",
    "                    stemmed_es = [stemmer_es.stem(word) for word in items.iloc[i]['title_tokenized_lower_isalpha_stopwords']]\n",
    "                    items.at[i, 'title_tokenized_lower_isalpha_stopwords_stemwords'] = stemmed_es\n",
    "                    print(str(i) + ' es')    \n",
    "                else:\n",
    "                    items.at[i, 'title_tokenized_lower_isalpha_stopwords_stemwords'] = items.iloc[i]['title_tokenized_lower_isalpha_stopwords']\n",
    "                    print(str(i) + ' lang detected but not in set: ' + str(lang) )\n",
    "        else:\n",
    "            #language cannot be detected\n",
    "            items.at[i, 'language'] = 'NaN' \n",
    "            items.at[i, 'title_tokenized_lower_isalpha_stopwords_stemwords'] = items.iloc[i]['title_tokenized_lower_isalpha_stopwords']\n",
    "            print(str(i) + ' ' + str(title) + ', language cannot be detected')\n",
    "    return items"
   ]
  },
  {
   "cell_type": "code",
   "execution_count": 6,
   "metadata": {},
   "outputs": [],
   "source": [
    "def lang_detect(df):\n",
    "    df['language_title'] = 'NaN'\n",
    "    for i in range(0,len(df)):\n",
    "        title = df.iloc[i]['title']\n",
    "        lang = detect(title)\n",
    "        df.at[i, 'language_title'] = lang\n",
    "        print(str(title) + ', ' + str(lang))\n",
    "    return df"
   ]
  },
  {
   "cell_type": "code",
   "execution_count": 7,
   "metadata": {},
   "outputs": [],
   "source": [
    "# create strings out of preprocessed word stems\n",
    "def create_string(items):\n",
    "    items['title_tokenized_lower_isalpha_stopwords_stemwords_str'] = 'empty'\n",
    "    for i in range(0, len(items)):\n",
    "        string = ' '.join(items.iloc[i]['title_tokenized_lower_isalpha_stopwords_stemwords'])\n",
    "        items.at[i, 'title_tokenized_lower_isalpha_stopwords_stemwords_str'] = string\n",
    "        #print(i)\n",
    "    return items    "
   ]
  },
  {
   "cell_type": "code",
   "execution_count": 8,
   "metadata": {},
   "outputs": [],
   "source": [
    "# create strings out of preprocessed word stems\n",
    "def create_string_topic(items):\n",
    "    items['main_topic_split_string'] = ''\n",
    "    for i in range(0, len(items)):\n",
    "        string = ' '.join(items.iloc[i]['main_topic_split'])\n",
    "        items.at[i, 'main_topic_split_string'] = string\n",
    "        #print(i)\n",
    "    return items    "
   ]
  },
  {
   "cell_type": "markdown",
   "metadata": {},
   "source": [
    "# Prepare Data "
   ]
  },
  {
   "cell_type": "markdown",
   "metadata": {},
   "source": [
    "load preprocessing script from Hao"
   ]
  },
  {
   "cell_type": "code",
   "execution_count": null,
   "metadata": {},
   "outputs": [],
   "source": [
    "items = pd.read_pickle('items_preprocessed.pkl')\n",
    "items = items.reset_index()"
   ]
  },
  {
   "cell_type": "code",
   "execution_count": null,
   "metadata": {},
   "outputs": [],
   "source": [
    "# read all external data\n",
    "items_ex = pd.read_pickle('External_Data_incl_Features.pkl')\n",
    "items_ex = items_ex.reset_index()"
   ]
  },
  {
   "cell_type": "code",
   "execution_count": null,
   "metadata": {},
   "outputs": [],
   "source": [
    "tx = pd.read_pickle('transactions_preprocessed.pkl')"
   ]
  },
  {
   "cell_type": "code",
   "execution_count": null,
   "metadata": {},
   "outputs": [],
   "source": [
    "# read evaluation CSV\n",
    "evaluation = pd.read_csv(\"./evaluation.csv\", sep=\"|\", quoting = csv.QUOTE_NONE)"
   ]
  },
  {
   "cell_type": "markdown",
   "metadata": {},
   "source": [
    "merge dataframes"
   ]
  },
  {
   "cell_type": "code",
   "execution_count": null,
   "metadata": {},
   "outputs": [],
   "source": [
    "df = pd.merge(tx, items, on='itemID')"
   ]
  },
  {
   "cell_type": "markdown",
   "metadata": {},
   "source": [
    "##### external dataset"
   ]
  },
  {
   "cell_type": "code",
   "execution_count": 11,
   "metadata": {},
   "outputs": [],
   "source": [
    "# load 'rules_order' from pickle\n",
    "with open('result_fuzzy_matching.pkl', 'rb') as f:\n",
    "    items_ext = pickle.load(f)\n",
    "items_ext = items_ext.reset_index()    "
   ]
  },
  {
   "cell_type": "markdown",
   "metadata": {},
   "source": [
    "## Clustering by Main Topic"
   ]
  },
  {
   "cell_type": "markdown",
   "metadata": {},
   "source": [
    "##### preprocess whole items dataset for main topic clustering"
   ]
  },
  {
   "cell_type": "code",
   "execution_count": 13,
   "metadata": {},
   "outputs": [],
   "source": [
    "items = pd.read_pickle('items_preprocessed.pkl')\n",
    "items = items.reset_index()"
   ]
  },
  {
   "cell_type": "code",
   "execution_count": 15,
   "metadata": {},
   "outputs": [],
   "source": [
    "def split(word): \n",
    "    return [char for char in word] "
   ]
  },
  {
   "cell_type": "code",
   "execution_count": 16,
   "metadata": {},
   "outputs": [],
   "source": [
    "items['main_topic_split'] = ''\n",
    "for i in range(0, len(items)):\n",
    "    list_char = split(items.iloc[i]['main topic'])\n",
    "    items.at[i, 'main_topic_split'] = list_char"
   ]
  },
  {
   "cell_type": "code",
   "execution_count": 17,
   "metadata": {},
   "outputs": [],
   "source": [
    "items = create_string_topic(items)"
   ]
  },
  {
   "cell_type": "code",
   "execution_count": 20,
   "metadata": {},
   "outputs": [],
   "source": [
    "# get only items with main topic of at least 3 characters -> 2 letters\n",
    "mask = (items['main_topic_split_string'].str.len() >=2)\n",
    "items = items.loc[mask]"
   ]
  },
  {
   "cell_type": "code",
   "execution_count": 63,
   "metadata": {},
   "outputs": [],
   "source": [
    "# create feature for top topic of book, i.e. the first letter that appears\n",
    "items['main_topic_A'] = items['main topic'].str.startswith('A')\n",
    "items['main_topic_C'] = items['main topic'].str.startswith('C')\n",
    "items['main_topic_D'] = items['main topic'].str.startswith('D')\n",
    "items['main_topic_F'] = items['main topic'].str.startswith('F')\n",
    "items['main_topic_G'] = items['main topic'].str.startswith('G')\n",
    "items['main_topic_J'] = items['main topic'].str.startswith('J')\n",
    "items['main_topic_K'] = items['main topic'].str.startswith('K')\n",
    "items['main_topic_L'] = items['main topic'].str.startswith('L')\n",
    "items['main_topic_M'] = items['main topic'].str.startswith('M')\n",
    "items['main_topic_N'] = items['main topic'].str.startswith('N')\n",
    "items['main_topic_P'] = items['main topic'].str.startswith('P')\n",
    "items['main_topic_Q'] = items['main topic'].str.startswith('Q')\n",
    "items['main_topic_R'] = items['main topic'].str.startswith('R')\n",
    "items['main_topic_S'] = items['main topic'].str.startswith('S')\n",
    "items['main_topic_T'] = items['main topic'].str.startswith('T')\n",
    "items['main_topic_U'] = items['main topic'].str.startswith('U')\n",
    "items['main_topic_V'] = items['main topic'].str.startswith('V')\n",
    "items['main_topic_W'] = items['main topic'].str.startswith('W')\n",
    "items['main_topic_X'] = items['main topic'].str.startswith('X')\n",
    "items['main_topic_Y'] = items['main topic'].str.startswith('Y')\n",
    "items['main_topic_1'] = items['main topic'].str.startswith('1')\n",
    "items['main_topic_2'] = items['main topic'].str.startswith('2')\n",
    "items['main_topic_3'] = items['main topic'].str.startswith('3')\n",
    "items['main_topic_4'] = items['main topic'].str.startswith('4')\n",
    "items['main_topic_5'] = items['main topic'].str.startswith('5')\n",
    "items['main_topic_6'] = items['main topic'].str.startswith('6')"
   ]
  },
  {
   "cell_type": "code",
   "execution_count": 94,
   "metadata": {},
   "outputs": [],
   "source": [
    "#### KMeans https://www.youtube.com/watch?v=ORpDAUQUnkU&ab_channel=CodewithMarcus"
   ]
  },
  {
   "cell_type": "code",
   "execution_count": 21,
   "metadata": {},
   "outputs": [],
   "source": [
    "items = items.reset_index()"
   ]
  },
  {
   "cell_type": "code",
   "execution_count": 22,
   "metadata": {},
   "outputs": [],
   "source": [
    "items = items.drop(columns = ['index','level_0'])"
   ]
  },
  {
   "cell_type": "markdown",
   "metadata": {},
   "source": [
    "##### Application of KMeans on main topics"
   ]
  },
  {
   "cell_type": "code",
   "execution_count": 26,
   "metadata": {},
   "outputs": [],
   "source": [
    "# cluster by main topic\n",
    "documents = items['main_topic_split_string'].values.astype(\"U\")"
   ]
  },
  {
   "cell_type": "code",
   "execution_count": 27,
   "metadata": {},
   "outputs": [],
   "source": [
    "# clustering the topic by character\n",
    "vectorizer = CountVectorizer(analyzer='char')\n",
    "features = vectorizer.fit_transform(documents)"
   ]
  },
  {
   "cell_type": "code",
   "execution_count": 28,
   "metadata": {},
   "outputs": [],
   "source": [
    "# Silhouette Score\n",
    "k = 21\n",
    "kmeans = KMeans(n_clusters = k).fit(features)\n",
    "labels = kmeans.labels_\n",
    "sil = silhouette_score(features, labels, metric = 'euclidean')"
   ]
  },
  {
   "cell_type": "code",
   "execution_count": 23,
   "metadata": {},
   "outputs": [
    {
     "name": "stdout",
     "output_type": "stream",
     "text": [
      "15\n",
      "16\n",
      "17\n",
      "18\n",
      "19\n",
      "20\n",
      "21\n",
      "22\n",
      "23\n",
      "24\n",
      "25\n",
      "26\n",
      "27\n",
      "28\n",
      "29\n",
      "30\n",
      "31\n",
      "32\n",
      "33\n",
      "34\n",
      "35\n",
      "36\n",
      "37\n",
      "38\n",
      "39\n",
      "40\n"
     ]
    }
   ],
   "source": [
    "# Silhouette Score\n",
    "sil = []\n",
    "kmax = 40\n",
    "# dissimilarity would not be defined for a single cluster, thus, minimum number of clusters should be 2\n",
    "for k in range(15, kmax+1):\n",
    "  print(k)\n",
    "  kmeans = KMeans(n_clusters = k).fit(features)\n",
    "  labels = kmeans.labels_\n",
    "  sil_score = silhouette_score(features, labels, metric = 'euclidean')  \n",
    "  sil.append(sil_score)\n",
    "  print(sil_score)  "
   ]
  },
  {
   "cell_type": "code",
   "execution_count": 30,
   "metadata": {
    "scrolled": true
   },
   "outputs": [
    {
     "data": {
      "text/plain": [
       "0.5981487944193836"
      ]
     },
     "execution_count": 30,
     "metadata": {},
     "output_type": "execute_result"
    }
   ],
   "source": [
    "# 29 clusters\n",
    "sil[15]"
   ]
  },
  {
   "cell_type": "code",
   "execution_count": 28,
   "metadata": {},
   "outputs": [
    {
     "data": {
      "text/plain": [
       "[<matplotlib.lines.Line2D at 0x7f96ac0352e0>]"
      ]
     },
     "execution_count": 28,
     "metadata": {},
     "output_type": "execute_result"
    },
    {
     "data": {
      "image/png": "[encoded data removed]",
      "text/plain": [
       "<Figure size 432x288 with 1 Axes>"
      ]
     },
     "metadata": {
      "needs_background": "light"
     },
     "output_type": "display_data"
    }
   ],
   "source": [
    "plt.plot(sil)\n",
    "#plt.xlim([10, 15])"
   ]
  },
  {
   "cell_type": "code",
   "execution_count": 31,
   "metadata": {},
   "outputs": [
    {
     "name": "stdout",
     "output_type": "stream",
     "text": [
      "1\n",
      "2\n",
      "3\n",
      "4\n",
      "5\n",
      "6\n",
      "7\n",
      "8\n",
      "9\n",
      "10\n",
      "11\n",
      "12\n",
      "13\n",
      "14\n",
      "15\n",
      "16\n",
      "17\n",
      "18\n",
      "19\n",
      "20\n",
      "21\n",
      "22\n",
      "23\n",
      "24\n",
      "25\n",
      "26\n",
      "27\n",
      "28\n",
      "29\n",
      "30\n",
      "31\n",
      "32\n",
      "33\n",
      "34\n",
      "35\n",
      "36\n",
      "37\n",
      "38\n",
      "39\n",
      "40\n",
      "41\n",
      "42\n",
      "43\n",
      "44\n",
      "45\n",
      "46\n",
      "47\n",
      "48\n",
      "49\n",
      "50\n",
      "51\n",
      "52\n",
      "53\n",
      "54\n",
      "55\n",
      "56\n",
      "57\n",
      "58\n",
      "59\n",
      "60\n",
      "61\n",
      "62\n",
      "63\n",
      "64\n",
      "65\n",
      "66\n",
      "67\n",
      "68\n",
      "69\n",
      "70\n",
      "71\n",
      "72\n",
      "73\n",
      "74\n",
      "75\n",
      "76\n",
      "77\n",
      "78\n",
      "79\n",
      "80\n",
      "81\n",
      "82\n",
      "83\n",
      "84\n",
      "85\n",
      "86\n",
      "87\n",
      "88\n",
      "89\n",
      "90\n",
      "91\n",
      "92\n",
      "93\n",
      "94\n",
      "95\n",
      "96\n",
      "97\n",
      "98\n",
      "99\n"
     ]
    }
   ],
   "source": [
    "#ELBOW CURVE\n",
    "\n",
    "# K-Means - finding K\n",
    "distortions = []\n",
    "K = range(1,100)\n",
    "for k in K:\n",
    "    print(k)\n",
    "    model = KMeans(n_clusters=k, init='k-means++', max_iter=1000, n_init=1)\n",
    "    model.fit(features)\n",
    "    distortions.append(model.inertia_)"
   ]
  },
  {
   "cell_type": "code",
   "execution_count": 33,
   "metadata": {},
   "outputs": [
    {
     "data": {
      "image/png": "[encoded data removed]",
      "text/plain": [
       "<Figure size 432x288 with 1 Axes>"
      ]
     },
     "metadata": {
      "needs_background": "light"
     },
     "output_type": "display_data"
    }
   ],
   "source": [
    "plt.plot(K, distortions, '-')\n",
    "plt.xlabel('k')\n",
    "plt.ylabel('Distortion')\n",
    "plt.title('The Elbow Method showing the optimal k')\n",
    "plt.xlim([20, 40])\n",
    "#plt.ylim([0, 17000])\n",
    "plt.show()"
   ]
  },
  {
   "cell_type": "code",
   "execution_count": null,
   "metadata": {},
   "outputs": [],
   "source": [
    "# 29 clusters for main topic"
   ]
  },
  {
   "cell_type": "code",
   "execution_count": 34,
   "metadata": {},
   "outputs": [
    {
     "data": {
      "text/plain": [
       "KMeans(max_iter=1000, n_clusters=29, n_init=50)"
      ]
     },
     "execution_count": 34,
     "metadata": {},
     "output_type": "execute_result"
    }
   ],
   "source": [
    "# KMeans - setting number of clusters\n",
    "k = 29\n",
    "model = KMeans(n_clusters=k, init='k-means++', max_iter=1000, n_init=50)\n",
    "model.fit(features)"
   ]
  },
  {
   "cell_type": "code",
   "execution_count": 35,
   "metadata": {},
   "outputs": [],
   "source": [
    "# new column with cluster labels\n",
    "items['main_topic_cluster'] = model.labels_"
   ]
  },
  {
   "cell_type": "code",
   "execution_count": 36,
   "metadata": {},
   "outputs": [
    {
     "data": {
      "text/html": [
       "<div>\n",
       "<style scoped>\n",
       "    .dataframe tbody tr th:only-of-type {\n",
       "        vertical-align: middle;\n",
       "    }\n",
       "\n",
       "    .dataframe tbody tr th {\n",
       "        vertical-align: top;\n",
       "    }\n",
       "\n",
       "    .dataframe thead th {\n",
       "        text-align: right;\n",
       "    }\n",
       "</style>\n",
       "<table border=\"1\" class=\"dataframe\">\n",
       "  <thead>\n",
       "    <tr style=\"text-align: right;\">\n",
       "      <th></th>\n",
       "      <th>main topic</th>\n",
       "      <th>main_topic_cluster</th>\n",
       "    </tr>\n",
       "  </thead>\n",
       "  <tbody>\n",
       "    <tr>\n",
       "      <th>3</th>\n",
       "      <td>YB</td>\n",
       "      <td>10</td>\n",
       "    </tr>\n",
       "    <tr>\n",
       "      <th>48</th>\n",
       "      <td>YF</td>\n",
       "      <td>10</td>\n",
       "    </tr>\n",
       "    <tr>\n",
       "      <th>90</th>\n",
       "      <td>YF</td>\n",
       "      <td>10</td>\n",
       "    </tr>\n",
       "    <tr>\n",
       "      <th>110</th>\n",
       "      <td>YF</td>\n",
       "      <td>10</td>\n",
       "    </tr>\n",
       "    <tr>\n",
       "      <th>196</th>\n",
       "      <td>YF</td>\n",
       "      <td>10</td>\n",
       "    </tr>\n",
       "    <tr>\n",
       "      <th>...</th>\n",
       "      <td>...</td>\n",
       "      <td>...</td>\n",
       "    </tr>\n",
       "    <tr>\n",
       "      <th>76700</th>\n",
       "      <td>YF</td>\n",
       "      <td>10</td>\n",
       "    </tr>\n",
       "    <tr>\n",
       "      <th>76701</th>\n",
       "      <td>YF</td>\n",
       "      <td>10</td>\n",
       "    </tr>\n",
       "    <tr>\n",
       "      <th>76702</th>\n",
       "      <td>YF</td>\n",
       "      <td>10</td>\n",
       "    </tr>\n",
       "    <tr>\n",
       "      <th>76740</th>\n",
       "      <td>YF</td>\n",
       "      <td>10</td>\n",
       "    </tr>\n",
       "    <tr>\n",
       "      <th>76784</th>\n",
       "      <td>YF</td>\n",
       "      <td>10</td>\n",
       "    </tr>\n",
       "  </tbody>\n",
       "</table>\n",
       "<p>3599 rows × 2 columns</p>\n",
       "</div>"
      ],
      "text/plain": [
       "      main topic  main_topic_cluster\n",
       "3             YB                  10\n",
       "48            YF                  10\n",
       "90            YF                  10\n",
       "110           YF                  10\n",
       "196           YF                  10\n",
       "...          ...                 ...\n",
       "76700         YF                  10\n",
       "76701         YF                  10\n",
       "76702         YF                  10\n",
       "76740         YF                  10\n",
       "76784         YF                  10\n",
       "\n",
       "[3599 rows x 2 columns]"
      ]
     },
     "execution_count": 36,
     "metadata": {},
     "output_type": "execute_result"
    }
   ],
   "source": [
    "# check each cluster\n",
    "items[['main topic', 'main_topic_cluster']].loc[items['main_topic_cluster'] == 10]"
   ]
  },
  {
   "cell_type": "code",
   "execution_count": 38,
   "metadata": {},
   "outputs": [],
   "source": [
    "### save description clusters to pickle file\n",
    "with open('main_topic_clusters.pkl', 'wb') as f:\n",
    "    pickle.dump(items, f)"
   ]
  }
 ],
 "metadata": {
  "kernelspec": {
   "display_name": "Python 3",
   "language": "python",
   "name": "python3"
  },
  "language_info": {
   "codemirror_mode": {
    "name": "ipython",
    "version": 3
   },
   "file_extension": ".py",
   "mimetype": "text/x-python",
   "name": "python",
   "nbconvert_exporter": "python",
   "pygments_lexer": "ipython3",
   "version": "3.8.5"
  }
 },
 "nbformat": 4,
 "nbformat_minor": 4
}
