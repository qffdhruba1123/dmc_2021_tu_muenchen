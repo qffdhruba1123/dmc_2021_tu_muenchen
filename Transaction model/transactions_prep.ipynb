{
 "cells": [
  {
   "cell_type": "code",
   "execution_count": 7,
   "metadata": {},
   "outputs": [],
   "source": [
    "import pandas as pd\n",
    "import csv\n",
    "from collections import Counter\n",
    "from itertools import combinations\n",
    "from sklearn import preprocessing\n",
    "from apriori_python import apriori\n",
    "import pickle\n",
    "import matplotlib.pyplot as plt\n",
    "import numpy as np"
   ]
  },
  {
   "cell_type": "code",
   "execution_count": 8,
   "metadata": {},
   "outputs": [],
   "source": [
    "def transform_groups_to_pairs(df):\n",
    "    d = Counter()\n",
    "    for sub in df:\n",
    "        if len(df) < 2:\n",
    "            continue\n",
    "        sub.sort()\n",
    "        for comb in combinations(sub,2):\n",
    "            d[comb] += 1\n",
    "    data = pd.DataFrame.from_dict(d, orient='index').reset_index().rename(columns={\"index\": \"Pair\", 0: \"Occurences\"})\n",
    "    data[['Element1', 'Element2']] = pd.DataFrame(data.Pair.tolist(), index= data.index)\n",
    "    return data"
   ]
  },
  {
   "cell_type": "code",
   "execution_count": 9,
   "metadata": {},
   "outputs": [],
   "source": [
    "# not needed --> can do that with normal formulas\n",
    "def normalize_maxmin(df):\n",
    "    result = df.copy()\n",
    "    for feature_name in ['Occurences']:\n",
    "        max_value = df[feature_name].max()\n",
    "        min_value = df[feature_name].min()\n",
    "        result[feature_name] = (df[feature_name] - min_value) / (max_value - min_value)\n",
    "    return result"
   ]
  },
  {
   "cell_type": "code",
   "execution_count": 10,
   "metadata": {},
   "outputs": [],
   "source": [
    "# not needed --> can do that with normal formulas\n",
    "def normalize_mean(df):\n",
    "    result = df.copy()\n",
    "    for feature_name in ['Occurences']:\n",
    "        mean_value = df[feature_name].mean()\n",
    "        std_value = df[feature_name].std()\n",
    "        result[feature_name] = (df[feature_name] - mean_value) /std_value\n",
    "    return result"
   ]
  },
  {
   "cell_type": "code",
   "execution_count": 18,
   "metadata": {},
   "outputs": [],
   "source": [
    "# read preprocessed CSVs\n",
    "items = pd.read_csv(\"/Users/maurice/Desktop/University/SS21/Data_Mining_Seminar/DMC-2021-Task/items.csv\", sep=\"|\", quoting = csv.QUOTE_NONE)\n",
    "tx = pd.read_pickle(\"/Users/maurice/Desktop/University/SS21/Data_Mining_Seminar/DMC-2021-Task/transactions_preprocessed.pkl\")\n"
   ]
  },
  {
   "cell_type": "code",
   "execution_count": 19,
   "metadata": {},
   "outputs": [],
   "source": [
    "# read evaluation CSV\n",
    "#evaluation = pd.read_csv(\"./evaluation.csv\", sep=\"|\", quoting = csv.QUOTE_NONE)"
   ]
  },
  {
   "cell_type": "code",
   "execution_count": 20,
   "metadata": {},
   "outputs": [],
   "source": [
    "# tx = pd.read_csv(\"./transactions.csv\", sep=\"|\", quoting = csv.QUOTE_NONE)"
   ]
  },
  {
   "cell_type": "code",
   "execution_count": 21,
   "metadata": {},
   "outputs": [],
   "source": [
    "# items = pd.read_csv(\"./items.csv\", sep=\"|\", quoting = csv.QUOTE_NONE)"
   ]
  },
  {
   "cell_type": "code",
   "execution_count": 22,
   "metadata": {},
   "outputs": [],
   "source": [
    "# tx.itemID.nunique()"
   ]
  },
  {
   "cell_type": "markdown",
   "metadata": {},
   "source": [
    "### clean transaction data of outliers -> not needed"
   ]
  },
  {
   "cell_type": "code",
   "execution_count": 23,
   "metadata": {},
   "outputs": [],
   "source": [
    "#delete outliers of clicks\n",
    "#tx = tx.drop(tx.loc[tx['click'] >50].index)"
   ]
  },
  {
   "cell_type": "code",
   "execution_count": 24,
   "metadata": {},
   "outputs": [],
   "source": [
    "# delete outliers of basket\n",
    "#tx = tx.drop(tx.loc[tx['basket'] >100].index)"
   ]
  },
  {
   "cell_type": "markdown",
   "metadata": {},
   "source": [
    "### Create pairs of items session-wise"
   ]
  },
  {
   "cell_type": "code",
   "execution_count": 25,
   "metadata": {},
   "outputs": [],
   "source": [
    "#filter tx on sessions that appear more than once -> contain more than one item\n",
    "sessionID_vC = tx.sessionID.value_counts()\n",
    "tx_multipleItems_session = tx[tx.sessionID.isin(sessionID_vC.index[sessionID_vC.gt(1)])]"
   ]
  },
  {
   "cell_type": "code",
   "execution_count": 26,
   "metadata": {},
   "outputs": [
    {
     "data": {
      "text/html": [
       "<div>\n",
       "<style scoped>\n",
       "    .dataframe tbody tr th:only-of-type {\n",
       "        vertical-align: middle;\n",
       "    }\n",
       "\n",
       "    .dataframe tbody tr th {\n",
       "        vertical-align: top;\n",
       "    }\n",
       "\n",
       "    .dataframe thead th {\n",
       "        text-align: right;\n",
       "    }\n",
       "</style>\n",
       "<table border=\"1\" class=\"dataframe\">\n",
       "  <thead>\n",
       "    <tr style=\"text-align: right;\">\n",
       "      <th></th>\n",
       "      <th>sessionID</th>\n",
       "      <th>itemID</th>\n",
       "      <th>click</th>\n",
       "      <th>basket</th>\n",
       "      <th>order</th>\n",
       "    </tr>\n",
       "  </thead>\n",
       "  <tbody>\n",
       "    <tr>\n",
       "      <th>7</th>\n",
       "      <td>7</td>\n",
       "      <td>14576</td>\n",
       "      <td>1</td>\n",
       "      <td>1</td>\n",
       "      <td>0</td>\n",
       "    </tr>\n",
       "    <tr>\n",
       "      <th>8</th>\n",
       "      <td>7</td>\n",
       "      <td>17731</td>\n",
       "      <td>2</td>\n",
       "      <td>1</td>\n",
       "      <td>0</td>\n",
       "    </tr>\n",
       "    <tr>\n",
       "      <th>13</th>\n",
       "      <td>12</td>\n",
       "      <td>30277</td>\n",
       "      <td>1</td>\n",
       "      <td>0</td>\n",
       "      <td>0</td>\n",
       "    </tr>\n",
       "    <tr>\n",
       "      <th>14</th>\n",
       "      <td>12</td>\n",
       "      <td>29508</td>\n",
       "      <td>1</td>\n",
       "      <td>1</td>\n",
       "      <td>0</td>\n",
       "    </tr>\n",
       "    <tr>\n",
       "      <th>15</th>\n",
       "      <td>12</td>\n",
       "      <td>75659</td>\n",
       "      <td>1</td>\n",
       "      <td>0</td>\n",
       "      <td>0</td>\n",
       "    </tr>\n",
       "  </tbody>\n",
       "</table>\n",
       "</div>"
      ],
      "text/plain": [
       "    sessionID  itemID  click  basket  order\n",
       "7           7   14576      1       1      0\n",
       "8           7   17731      2       1      0\n",
       "13         12   30277      1       0      0\n",
       "14         12   29508      1       1      0\n",
       "15         12   75659      1       0      0"
      ]
     },
     "execution_count": 26,
     "metadata": {},
     "output_type": "execute_result"
    }
   ],
   "source": [
    "tx_multipleItems_session.head()"
   ]
  },
  {
   "cell_type": "code",
   "execution_count": 27,
   "metadata": {},
   "outputs": [],
   "source": [
    "#filter data on click, basket, ordered >= 1, so we can find out which items were clicked together, were put in a basket together or ordered together\n",
    "tx_multipleItems_session_clicked1 = tx_multipleItems_session.loc[tx_multipleItems_session['click'] >= 1]\n",
    "tx_multipleItems_session_basket1 = tx_multipleItems_session.loc[tx_multipleItems_session['basket'] >= 1]\n",
    "tx_multipleItems_session_ordered1 = tx_multipleItems_session.loc[tx_multipleItems_session['order'] >= 1]"
   ]
  },
  {
   "cell_type": "code",
   "execution_count": 28,
   "metadata": {},
   "outputs": [],
   "source": [
    "#group all items that appear in a session together \n",
    "itemgroups_by_session_clicked1 = tx_multipleItems_session_clicked1.groupby(\"sessionID\")[\"itemID\"].apply(list)\n",
    "itemgroups_by_session_basket1 = tx_multipleItems_session_basket1.groupby(\"sessionID\")[\"itemID\"].apply(list)\n",
    "itemgroups_by_session_ordered1 = tx_multipleItems_session_ordered1.groupby(\"sessionID\")[\"itemID\"].apply(list)"
   ]
  },
  {
   "cell_type": "code",
   "execution_count": 29,
   "metadata": {
    "scrolled": true
   },
   "outputs": [
    {
     "data": {
      "text/plain": [
       "sessionID\n",
       "7            [14576, 17731]\n",
       "12    [30277, 29508, 75659]\n",
       "13    [55699, 62433, 72603]\n",
       "14           [11989, 11117]\n",
       "20             [3106, 4283]\n",
       "Name: itemID, dtype: object"
      ]
     },
     "execution_count": 29,
     "metadata": {},
     "output_type": "execute_result"
    }
   ],
   "source": [
    "itemgroups_by_session_clicked1.head()"
   ]
  },
  {
   "cell_type": "code",
   "execution_count": 30,
   "metadata": {},
   "outputs": [],
   "source": [
    "### filter out lists of items that are not needed --> because they do not contain a test element\n",
    "### for apriori, only sublists, that contain at least one element from evaluation set, are needed, others create rules that are not needed\n",
    "#evaluation_list = list(evaluation['itemID'])\n",
    "#itemgroups_ordered_filtered = [item_list for item_list in itemgroups_by_session_ordered1 if any(i in item_list for i in evaluation_list)==True]\n",
    "#itemgroups_clicked_filtered = [item_list for item_list in itemgroups_by_session_clicked1 if any(i in item_list for i in evaluation_list)==True]\n",
    "#itemgroups_basket_filtered = [item_list for item_list in itemgroups_by_session_basket1 if any(i in item_list for i in evaluation_list)==True]\n",
    "\n",
    "itemgroups_ordered_filtered = itemgroups_by_session_ordered1\n",
    "itemgroups_clicked_filtered = itemgroups_by_session_clicked1\n",
    "itemgroups_basket_filtered = itemgroups_by_session_basket1"
   ]
  },
  {
   "cell_type": "code",
   "execution_count": 46,
   "metadata": {},
   "outputs": [
    {
     "data": {
      "text/plain": [
       "sessionID\n",
       "104                             [9865, 26296, 74094]\n",
       "194                                   [38131, 67241]\n",
       "236                            [20869, 53893, 55400]\n",
       "457                            [18162, 25487, 50816]\n",
       "738                                          [43813]\n",
       "                             ...                    \n",
       "278934                                       [18805]\n",
       "279012                                [17740, 40344]\n",
       "279034                                        [8903]\n",
       "279097                                       [39458]\n",
       "279199    [10039, 20572, 28690, 48821, 58064, 65093]\n",
       "Name: itemID, Length: 3032, dtype: object"
      ]
     },
     "execution_count": 46,
     "metadata": {},
     "output_type": "execute_result"
    }
   ],
   "source": [
    "itemgroups_ordered_filtered"
   ]
  },
  {
   "cell_type": "code",
   "execution_count": 31,
   "metadata": {},
   "outputs": [],
   "source": [
    "#transform groups into pairs\n",
    "itempairs_by_session_clicked1 = transform_groups_to_pairs(itemgroups_clicked_filtered)\n",
    "itempairs_by_session_basket1 = transform_groups_to_pairs(itemgroups_basket_filtered)\n",
    "itempairs_by_session_ordered1 = transform_groups_to_pairs(itemgroups_ordered_filtered)"
   ]
  },
  {
   "cell_type": "code",
   "execution_count": 32,
   "metadata": {},
   "outputs": [
    {
     "data": {
      "text/plain": [
       "(292433, 4)"
      ]
     },
     "execution_count": 32,
     "metadata": {},
     "output_type": "execute_result"
    }
   ],
   "source": [
    "itempairs_by_session_clicked1.shape"
   ]
  },
  {
   "cell_type": "code",
   "execution_count": 33,
   "metadata": {},
   "outputs": [],
   "source": [
    "### log occurences to get less skewed data\n",
    "# click\n",
    "Occurences_log = np.log(itempairs_by_session_clicked1.Occurences + 1)\n",
    "itempairs_by_session_clicked1['Occurences_log'] = Occurences_log\n",
    "# basket\n",
    "Occurences_log = np.log(itempairs_by_session_basket1.Occurences + 1)\n",
    "itempairs_by_session_basket1['Occurences_log'] = Occurences_log\n",
    "# order\n",
    "Occurences_log = np.log(itempairs_by_session_ordered1.Occurences + 1)\n",
    "itempairs_by_session_ordered1['Occurences_log'] = Occurences_log"
   ]
  },
  {
   "cell_type": "code",
   "execution_count": 34,
   "metadata": {},
   "outputs": [
    {
     "data": {
      "text/html": [
       "<div>\n",
       "<style scoped>\n",
       "    .dataframe tbody tr th:only-of-type {\n",
       "        vertical-align: middle;\n",
       "    }\n",
       "\n",
       "    .dataframe tbody tr th {\n",
       "        vertical-align: top;\n",
       "    }\n",
       "\n",
       "    .dataframe thead th {\n",
       "        text-align: right;\n",
       "    }\n",
       "</style>\n",
       "<table border=\"1\" class=\"dataframe\">\n",
       "  <thead>\n",
       "    <tr style=\"text-align: right;\">\n",
       "      <th></th>\n",
       "      <th>Pair</th>\n",
       "      <th>Occurences</th>\n",
       "      <th>Element1</th>\n",
       "      <th>Element2</th>\n",
       "      <th>Occurences_log</th>\n",
       "    </tr>\n",
       "  </thead>\n",
       "  <tbody>\n",
       "    <tr>\n",
       "      <th>0</th>\n",
       "      <td>(14576, 17731)</td>\n",
       "      <td>1</td>\n",
       "      <td>14576</td>\n",
       "      <td>17731</td>\n",
       "      <td>0.693147</td>\n",
       "    </tr>\n",
       "    <tr>\n",
       "      <th>1</th>\n",
       "      <td>(11525, 57800)</td>\n",
       "      <td>25</td>\n",
       "      <td>11525</td>\n",
       "      <td>57800</td>\n",
       "      <td>3.258097</td>\n",
       "    </tr>\n",
       "    <tr>\n",
       "      <th>2</th>\n",
       "      <td>(12633, 65865)</td>\n",
       "      <td>2</td>\n",
       "      <td>12633</td>\n",
       "      <td>65865</td>\n",
       "      <td>1.098612</td>\n",
       "    </tr>\n",
       "    <tr>\n",
       "      <th>3</th>\n",
       "      <td>(12633, 69584)</td>\n",
       "      <td>1</td>\n",
       "      <td>12633</td>\n",
       "      <td>69584</td>\n",
       "      <td>0.693147</td>\n",
       "    </tr>\n",
       "    <tr>\n",
       "      <th>4</th>\n",
       "      <td>(65865, 69584)</td>\n",
       "      <td>1</td>\n",
       "      <td>65865</td>\n",
       "      <td>69584</td>\n",
       "      <td>0.693147</td>\n",
       "    </tr>\n",
       "  </tbody>\n",
       "</table>\n",
       "</div>"
      ],
      "text/plain": [
       "             Pair  Occurences  Element1  Element2  Occurences_log\n",
       "0  (14576, 17731)           1     14576     17731        0.693147\n",
       "1  (11525, 57800)          25     11525     57800        3.258097\n",
       "2  (12633, 65865)           2     12633     65865        1.098612\n",
       "3  (12633, 69584)           1     12633     69584        0.693147\n",
       "4  (65865, 69584)           1     65865     69584        0.693147"
      ]
     },
     "execution_count": 34,
     "metadata": {},
     "output_type": "execute_result"
    }
   ],
   "source": [
    "itempairs_by_session_basket1.head()"
   ]
  },
  {
   "cell_type": "code",
   "execution_count": 35,
   "metadata": {
    "scrolled": true
   },
   "outputs": [
    {
     "data": {
      "text/plain": [
       "<AxesSubplot:>"
      ]
     },
     "execution_count": 35,
     "metadata": {},
     "output_type": "execute_result"
    },
    {
     "data": {
      "image/png": "[encoded data removed]",
      "text/plain": [
       "<Figure size 432x288 with 1 Axes>"
      ]
     },
     "metadata": {
      "needs_background": "light"
     },
     "output_type": "display_data"
    }
   ],
   "source": [
    "itempairs_by_session_basket1['Occurences_log'].plot()"
   ]
  },
  {
   "cell_type": "code",
   "execution_count": 36,
   "metadata": {},
   "outputs": [],
   "source": [
    "### normalize occurences and occurences_log with max min normalization for clicks, basket, order\n",
    "# clicks\n",
    "itempairs_by_session_clicked1['Occurences'] = 0.9*((itempairs_by_session_clicked1['Occurences'] - itempairs_by_session_clicked1['Occurences'].min())/(itempairs_by_session_clicked1['Occurences'].max()- itempairs_by_session_clicked1['Occurences'].min()))+0.1\n",
    "itempairs_by_session_clicked1['Occurences_log'] = 0.9*((itempairs_by_session_clicked1['Occurences_log'] - itempairs_by_session_clicked1['Occurences_log'].min())/(itempairs_by_session_clicked1['Occurences_log'].max()- itempairs_by_session_clicked1['Occurences_log'].min()))+0.1\n",
    "# basket\n",
    "itempairs_by_session_basket1['Occurences'] = 0.9*((itempairs_by_session_basket1['Occurences'] - itempairs_by_session_basket1['Occurences'].min())/(itempairs_by_session_basket1['Occurences'].max()- itempairs_by_session_basket1['Occurences'].min()))+0.1\n",
    "itempairs_by_session_basket1['Occurences_log'] = 0.9*((itempairs_by_session_basket1['Occurences_log'] - itempairs_by_session_basket1['Occurences_log'].min())/(itempairs_by_session_basket1['Occurences_log'].max()- itempairs_by_session_basket1['Occurences_log'].min()))+0.1\n",
    "# order\n",
    "itempairs_by_session_ordered1['Occurences'] = 0.9*((itempairs_by_session_ordered1['Occurences'] - itempairs_by_session_ordered1['Occurences'].min())/(itempairs_by_session_ordered1['Occurences'].max()- itempairs_by_session_ordered1['Occurences'].min()))+0.1\n",
    "itempairs_by_session_ordered1['Occurences_log'] = 0.9*((itempairs_by_session_ordered1['Occurences_log'] - itempairs_by_session_ordered1['Occurences_log'].min())/(itempairs_by_session_ordered1['Occurences_log'].max()- itempairs_by_session_ordered1['Occurences_log'].min()))+0.1\n"
   ]
  },
  {
   "cell_type": "code",
   "execution_count": 37,
   "metadata": {},
   "outputs": [
    {
     "data": {
      "text/html": [
       "<div>\n",
       "<style scoped>\n",
       "    .dataframe tbody tr th:only-of-type {\n",
       "        vertical-align: middle;\n",
       "    }\n",
       "\n",
       "    .dataframe tbody tr th {\n",
       "        vertical-align: top;\n",
       "    }\n",
       "\n",
       "    .dataframe thead th {\n",
       "        text-align: right;\n",
       "    }\n",
       "</style>\n",
       "<table border=\"1\" class=\"dataframe\">\n",
       "  <thead>\n",
       "    <tr style=\"text-align: right;\">\n",
       "      <th></th>\n",
       "      <th>Occurences</th>\n",
       "      <th>Element1</th>\n",
       "      <th>Element2</th>\n",
       "      <th>Occurences_log</th>\n",
       "    </tr>\n",
       "  </thead>\n",
       "  <tbody>\n",
       "    <tr>\n",
       "      <th>count</th>\n",
       "      <td>5181.000000</td>\n",
       "      <td>5181.000000</td>\n",
       "      <td>5181.000000</td>\n",
       "      <td>5181.000000</td>\n",
       "    </tr>\n",
       "    <tr>\n",
       "      <th>mean</th>\n",
       "      <td>0.117105</td>\n",
       "      <td>27511.955993</td>\n",
       "      <td>53877.948852</td>\n",
       "      <td>0.136143</td>\n",
       "    </tr>\n",
       "    <tr>\n",
       "      <th>std</th>\n",
       "      <td>0.063259</td>\n",
       "      <td>18837.261886</td>\n",
       "      <td>18757.041664</td>\n",
       "      <td>0.108132</td>\n",
       "    </tr>\n",
       "    <tr>\n",
       "      <th>min</th>\n",
       "      <td>0.100000</td>\n",
       "      <td>54.000000</td>\n",
       "      <td>3259.000000</td>\n",
       "      <td>0.100000</td>\n",
       "    </tr>\n",
       "    <tr>\n",
       "      <th>25%</th>\n",
       "      <td>0.100000</td>\n",
       "      <td>12105.000000</td>\n",
       "      <td>41042.000000</td>\n",
       "      <td>0.100000</td>\n",
       "    </tr>\n",
       "    <tr>\n",
       "      <th>50%</th>\n",
       "      <td>0.100000</td>\n",
       "      <td>23978.000000</td>\n",
       "      <td>57594.000000</td>\n",
       "      <td>0.100000</td>\n",
       "    </tr>\n",
       "    <tr>\n",
       "      <th>75%</th>\n",
       "      <td>0.100000</td>\n",
       "      <td>41753.000000</td>\n",
       "      <td>70221.000000</td>\n",
       "      <td>0.100000</td>\n",
       "    </tr>\n",
       "    <tr>\n",
       "      <th>max</th>\n",
       "      <td>1.000000</td>\n",
       "      <td>78393.000000</td>\n",
       "      <td>79066.000000</td>\n",
       "      <td>1.000000</td>\n",
       "    </tr>\n",
       "  </tbody>\n",
       "</table>\n",
       "</div>"
      ],
      "text/plain": [
       "        Occurences      Element1      Element2  Occurences_log\n",
       "count  5181.000000   5181.000000   5181.000000     5181.000000\n",
       "mean      0.117105  27511.955993  53877.948852        0.136143\n",
       "std       0.063259  18837.261886  18757.041664        0.108132\n",
       "min       0.100000     54.000000   3259.000000        0.100000\n",
       "25%       0.100000  12105.000000  41042.000000        0.100000\n",
       "50%       0.100000  23978.000000  57594.000000        0.100000\n",
       "75%       0.100000  41753.000000  70221.000000        0.100000\n",
       "max       1.000000  78393.000000  79066.000000        1.000000"
      ]
     },
     "execution_count": 37,
     "metadata": {},
     "output_type": "execute_result"
    }
   ],
   "source": [
    "itempairs_by_session_ordered1.describe()"
   ]
  },
  {
   "cell_type": "code",
   "execution_count": 38,
   "metadata": {},
   "outputs": [],
   "source": [
    "### append switched Element columns of \"CLICKED\"\n",
    "# delete column \"Pair\"\n",
    "itempairs_by_session_clicked1 = itempairs_by_session_clicked1.drop(columns= ['Pair'])\n",
    "\n",
    "# copy itempairs_by_session_clicked1 --> switch element 1 and 2 and append to original dataframe\n",
    "itempairs_by_session_clicked1_2 = itempairs_by_session_clicked1.copy()\n",
    "\n",
    "# swap 2 columns\n",
    "cols = list(itempairs_by_session_clicked1_2.columns)\n",
    "a, b = cols.index('Element1'), cols.index('Element2')\n",
    "cols[b], cols[a] = cols[a], cols[b]\n",
    "itempairs_by_session_clicked1_2 = itempairs_by_session_clicked1_2[cols]\n",
    "\n",
    "# rename columns\n",
    "itempairs_by_session_clicked1_2 = itempairs_by_session_clicked1_2.rename(columns={'Element2':'Element21','Element1':'Element12'})\n",
    "itempairs_by_session_clicked1_2 = itempairs_by_session_clicked1_2.rename(columns={'Element21':'Element1','Element12':'Element2'})\n",
    "\n",
    "# append copied dataframe to original one\n",
    "itempairs_by_session_clicked1 = itempairs_by_session_clicked1.append(itempairs_by_session_clicked1_2)"
   ]
  },
  {
   "cell_type": "code",
   "execution_count": 39,
   "metadata": {},
   "outputs": [],
   "source": [
    "### append switched Element columns of \"BASKET\"\n",
    "# delete column \"Pair\"\n",
    "itempairs_by_session_basket1 = itempairs_by_session_basket1.drop(columns= ['Pair'])\n",
    "\n",
    "# copy itempairs_by_session_clicked1 --> switch element 1 and 2 and append to original dataframe\n",
    "itempairs_by_session_basket1_2 = itempairs_by_session_basket1.copy()\n",
    "\n",
    "# swap 2 columns\n",
    "cols = list(itempairs_by_session_basket1_2.columns)\n",
    "a, b = cols.index('Element1'), cols.index('Element2')\n",
    "cols[b], cols[a] = cols[a], cols[b]\n",
    "itempairs_by_session_basket1_2 = itempairs_by_session_basket1_2[cols]\n",
    "\n",
    "# rename columns\n",
    "itempairs_by_session_basket1_2 = itempairs_by_session_basket1_2.rename(columns={'Element2':'Element21','Element1':'Element12'})\n",
    "itempairs_by_session_basket1_2 = itempairs_by_session_basket1_2.rename(columns={'Element21':'Element1','Element12':'Element2'})\n",
    "\n",
    "# append copied dataframe to original one\n",
    "itempairs_by_session_basket1 = itempairs_by_session_basket1.append(itempairs_by_session_basket1_2)"
   ]
  },
  {
   "cell_type": "code",
   "execution_count": 40,
   "metadata": {},
   "outputs": [],
   "source": [
    "### append switched Element columns of \"ORDER\"\n",
    "# delete column \"Pair\"\n",
    "itempairs_by_session_ordered1 = itempairs_by_session_ordered1.drop(columns= ['Pair'])\n",
    "\n",
    "# copy itempairs_by_session_clicked1 --> switch element 1 and 2 and append to original dataframe\n",
    "itempairs_by_session_ordered1_2 = itempairs_by_session_ordered1.copy()\n",
    "\n",
    "# swap 2 columns\n",
    "cols = list(itempairs_by_session_ordered1_2.columns)\n",
    "a, b = cols.index('Element1'), cols.index('Element2')\n",
    "cols[b], cols[a] = cols[a], cols[b]\n",
    "itempairs_by_session_ordered1_2 = itempairs_by_session_ordered1_2[cols]\n",
    "\n",
    "# rename columns\n",
    "itempairs_by_session_ordered1_2 = itempairs_by_session_ordered1_2.rename(columns={'Element2':'Element21','Element1':'Element12'})\n",
    "itempairs_by_session_ordered1_2 = itempairs_by_session_ordered1_2.rename(columns={'Element21':'Element1','Element12':'Element2'})\n",
    "\n",
    "# append copied dataframe to original one\n",
    "itempairs_by_session_ordered1 = itempairs_by_session_ordered1.append(itempairs_by_session_ordered1_2)"
   ]
  },
  {
   "cell_type": "code",
   "execution_count": 41,
   "metadata": {},
   "outputs": [
    {
     "data": {
      "text/html": [
       "<div>\n",
       "<style scoped>\n",
       "    .dataframe tbody tr th:only-of-type {\n",
       "        vertical-align: middle;\n",
       "    }\n",
       "\n",
       "    .dataframe tbody tr th {\n",
       "        vertical-align: top;\n",
       "    }\n",
       "\n",
       "    .dataframe thead th {\n",
       "        text-align: right;\n",
       "    }\n",
       "</style>\n",
       "<table border=\"1\" class=\"dataframe\">\n",
       "  <thead>\n",
       "    <tr style=\"text-align: right;\">\n",
       "      <th></th>\n",
       "      <th>Occurences</th>\n",
       "      <th>Element1</th>\n",
       "      <th>Element2</th>\n",
       "      <th>Occurences_log</th>\n",
       "    </tr>\n",
       "  </thead>\n",
       "  <tbody>\n",
       "    <tr>\n",
       "      <th>0</th>\n",
       "      <td>0.116438</td>\n",
       "      <td>14576</td>\n",
       "      <td>17731</td>\n",
       "      <td>0.310148</td>\n",
       "    </tr>\n",
       "    <tr>\n",
       "      <th>1</th>\n",
       "      <td>0.100000</td>\n",
       "      <td>29508</td>\n",
       "      <td>30277</td>\n",
       "      <td>0.100000</td>\n",
       "    </tr>\n",
       "    <tr>\n",
       "      <th>2</th>\n",
       "      <td>0.100000</td>\n",
       "      <td>29508</td>\n",
       "      <td>75659</td>\n",
       "      <td>0.100000</td>\n",
       "    </tr>\n",
       "    <tr>\n",
       "      <th>3</th>\n",
       "      <td>0.104110</td>\n",
       "      <td>30277</td>\n",
       "      <td>75659</td>\n",
       "      <td>0.177559</td>\n",
       "    </tr>\n",
       "    <tr>\n",
       "      <th>4</th>\n",
       "      <td>0.100000</td>\n",
       "      <td>55699</td>\n",
       "      <td>62433</td>\n",
       "      <td>0.100000</td>\n",
       "    </tr>\n",
       "    <tr>\n",
       "      <th>...</th>\n",
       "      <td>...</td>\n",
       "      <td>...</td>\n",
       "      <td>...</td>\n",
       "      <td>...</td>\n",
       "    </tr>\n",
       "    <tr>\n",
       "      <th>292428</th>\n",
       "      <td>0.100000</td>\n",
       "      <td>50891</td>\n",
       "      <td>13996</td>\n",
       "      <td>0.100000</td>\n",
       "    </tr>\n",
       "    <tr>\n",
       "      <th>292429</th>\n",
       "      <td>0.100000</td>\n",
       "      <td>73084</td>\n",
       "      <td>13996</td>\n",
       "      <td>0.100000</td>\n",
       "    </tr>\n",
       "    <tr>\n",
       "      <th>292430</th>\n",
       "      <td>0.100000</td>\n",
       "      <td>73084</td>\n",
       "      <td>23084</td>\n",
       "      <td>0.100000</td>\n",
       "    </tr>\n",
       "    <tr>\n",
       "      <th>292431</th>\n",
       "      <td>0.100000</td>\n",
       "      <td>73084</td>\n",
       "      <td>50891</td>\n",
       "      <td>0.100000</td>\n",
       "    </tr>\n",
       "    <tr>\n",
       "      <th>292432</th>\n",
       "      <td>0.100000</td>\n",
       "      <td>35260</td>\n",
       "      <td>18805</td>\n",
       "      <td>0.100000</td>\n",
       "    </tr>\n",
       "  </tbody>\n",
       "</table>\n",
       "<p>584866 rows × 4 columns</p>\n",
       "</div>"
      ],
      "text/plain": [
       "        Occurences  Element1  Element2  Occurences_log\n",
       "0         0.116438     14576     17731        0.310148\n",
       "1         0.100000     29508     30277        0.100000\n",
       "2         0.100000     29508     75659        0.100000\n",
       "3         0.104110     30277     75659        0.177559\n",
       "4         0.100000     55699     62433        0.100000\n",
       "...            ...       ...       ...             ...\n",
       "292428    0.100000     50891     13996        0.100000\n",
       "292429    0.100000     73084     13996        0.100000\n",
       "292430    0.100000     73084     23084        0.100000\n",
       "292431    0.100000     73084     50891        0.100000\n",
       "292432    0.100000     35260     18805        0.100000\n",
       "\n",
       "[584866 rows x 4 columns]"
      ]
     },
     "execution_count": 41,
     "metadata": {},
     "output_type": "execute_result"
    }
   ],
   "source": [
    "itempairs_by_session_clicked1"
   ]
  },
  {
   "cell_type": "code",
   "execution_count": 42,
   "metadata": {},
   "outputs": [],
   "source": [
    "# save to pickle file\n",
    "#\"\"\"\n",
    "with open('itempairs_by_session_clicked1.pkl', 'wb') as f:\n",
    "    pickle.dump(itempairs_by_session_clicked1, f)\n",
    "#\"\"\""
   ]
  },
  {
   "cell_type": "code",
   "execution_count": 43,
   "metadata": {},
   "outputs": [],
   "source": [
    "# save to pickle file\n",
    "#\"\"\"\n",
    "with open('itempairs_by_session_basket1.pkl', 'wb') as f:\n",
    "    pickle.dump(itempairs_by_session_basket1, f)\n",
    "#\"\"\""
   ]
  },
  {
   "cell_type": "code",
   "execution_count": 44,
   "metadata": {},
   "outputs": [],
   "source": [
    "# save to pickle file\n",
    "#\"\"\"\n",
    "with open('itempairs_by_session_ordered1.pkl', 'wb') as f:\n",
    "    pickle.dump(itempairs_by_session_ordered1, f)\n",
    "#\"\"\""
   ]
  },
  {
   "cell_type": "markdown",
   "metadata": {},
   "source": [
    "### transform dataframes into matrices -> don't need right now"
   ]
  },
  {
   "cell_type": "code",
   "execution_count": 45,
   "metadata": {},
   "outputs": [],
   "source": [
    "items_clicked = itempairs_by_session_clicked1.pivot_table('Occurences', ['Element1'], 'Element2').fillna(0)\n",
    "items_basket = itempairs_by_session_basket1.pivot_table('Occurences', ['Element1'], 'Element2').fillna(0)\n",
    "items_ordered = itempairs_by_session_ordered1.pivot_table('Occurences', ['Element1'], 'Element2').fillna(0)"
   ]
  },
  {
   "cell_type": "code",
   "execution_count": 24,
   "metadata": {},
   "outputs": [
    {
     "data": {
      "text/html": [
       "<div>\n",
       "<style scoped>\n",
       "    .dataframe tbody tr th:only-of-type {\n",
       "        vertical-align: middle;\n",
       "    }\n",
       "\n",
       "    .dataframe tbody tr th {\n",
       "        vertical-align: top;\n",
       "    }\n",
       "\n",
       "    .dataframe thead th {\n",
       "        text-align: right;\n",
       "    }\n",
       "</style>\n",
       "<table border=\"1\" class=\"dataframe\">\n",
       "  <thead>\n",
       "    <tr style=\"text-align: right;\">\n",
       "      <th>Element2</th>\n",
       "      <th>370</th>\n",
       "      <th>382</th>\n",
       "      <th>395</th>\n",
       "      <th>598</th>\n",
       "      <th>606</th>\n",
       "      <th>615</th>\n",
       "      <th>616</th>\n",
       "      <th>676</th>\n",
       "      <th>695</th>\n",
       "      <th>762</th>\n",
       "      <th>...</th>\n",
       "      <th>78996</th>\n",
       "      <th>79014</th>\n",
       "      <th>79038</th>\n",
       "      <th>79043</th>\n",
       "      <th>79044</th>\n",
       "      <th>79051</th>\n",
       "      <th>79057</th>\n",
       "      <th>79058</th>\n",
       "      <th>79062</th>\n",
       "      <th>79066</th>\n",
       "    </tr>\n",
       "    <tr>\n",
       "      <th>Element1</th>\n",
       "      <th></th>\n",
       "      <th></th>\n",
       "      <th></th>\n",
       "      <th></th>\n",
       "      <th></th>\n",
       "      <th></th>\n",
       "      <th></th>\n",
       "      <th></th>\n",
       "      <th></th>\n",
       "      <th></th>\n",
       "      <th></th>\n",
       "      <th></th>\n",
       "      <th></th>\n",
       "      <th></th>\n",
       "      <th></th>\n",
       "      <th></th>\n",
       "      <th></th>\n",
       "      <th></th>\n",
       "      <th></th>\n",
       "      <th></th>\n",
       "      <th></th>\n",
       "    </tr>\n",
       "  </thead>\n",
       "  <tbody>\n",
       "    <tr>\n",
       "      <th>1</th>\n",
       "      <td>0.0</td>\n",
       "      <td>0.0</td>\n",
       "      <td>0.0</td>\n",
       "      <td>0.0</td>\n",
       "      <td>0.0</td>\n",
       "      <td>0.0</td>\n",
       "      <td>0.0</td>\n",
       "      <td>0.0</td>\n",
       "      <td>0.0</td>\n",
       "      <td>0.0</td>\n",
       "      <td>...</td>\n",
       "      <td>0.0</td>\n",
       "      <td>0.0</td>\n",
       "      <td>0.0</td>\n",
       "      <td>0.0</td>\n",
       "      <td>0.0</td>\n",
       "      <td>0.0</td>\n",
       "      <td>0.0</td>\n",
       "      <td>0.0</td>\n",
       "      <td>0.0</td>\n",
       "      <td>0.0</td>\n",
       "    </tr>\n",
       "    <tr>\n",
       "      <th>2</th>\n",
       "      <td>0.0</td>\n",
       "      <td>0.0</td>\n",
       "      <td>0.0</td>\n",
       "      <td>0.0</td>\n",
       "      <td>0.0</td>\n",
       "      <td>0.0</td>\n",
       "      <td>0.0</td>\n",
       "      <td>0.0</td>\n",
       "      <td>0.0</td>\n",
       "      <td>0.0</td>\n",
       "      <td>...</td>\n",
       "      <td>0.0</td>\n",
       "      <td>0.0</td>\n",
       "      <td>0.0</td>\n",
       "      <td>0.0</td>\n",
       "      <td>0.0</td>\n",
       "      <td>0.0</td>\n",
       "      <td>0.0</td>\n",
       "      <td>0.0</td>\n",
       "      <td>0.0</td>\n",
       "      <td>0.0</td>\n",
       "    </tr>\n",
       "    <tr>\n",
       "      <th>6</th>\n",
       "      <td>0.0</td>\n",
       "      <td>0.0</td>\n",
       "      <td>0.0</td>\n",
       "      <td>0.0</td>\n",
       "      <td>0.0</td>\n",
       "      <td>0.0</td>\n",
       "      <td>0.0</td>\n",
       "      <td>0.0</td>\n",
       "      <td>0.0</td>\n",
       "      <td>0.0</td>\n",
       "      <td>...</td>\n",
       "      <td>0.0</td>\n",
       "      <td>0.0</td>\n",
       "      <td>0.0</td>\n",
       "      <td>0.0</td>\n",
       "      <td>0.0</td>\n",
       "      <td>0.0</td>\n",
       "      <td>0.0</td>\n",
       "      <td>0.0</td>\n",
       "      <td>0.0</td>\n",
       "      <td>0.0</td>\n",
       "    </tr>\n",
       "    <tr>\n",
       "      <th>13</th>\n",
       "      <td>0.0</td>\n",
       "      <td>0.0</td>\n",
       "      <td>0.0</td>\n",
       "      <td>0.0</td>\n",
       "      <td>0.0</td>\n",
       "      <td>0.0</td>\n",
       "      <td>0.0</td>\n",
       "      <td>0.0</td>\n",
       "      <td>0.0</td>\n",
       "      <td>0.0</td>\n",
       "      <td>...</td>\n",
       "      <td>0.0</td>\n",
       "      <td>0.0</td>\n",
       "      <td>0.0</td>\n",
       "      <td>0.0</td>\n",
       "      <td>0.0</td>\n",
       "      <td>0.0</td>\n",
       "      <td>0.0</td>\n",
       "      <td>0.0</td>\n",
       "      <td>0.0</td>\n",
       "      <td>0.0</td>\n",
       "    </tr>\n",
       "    <tr>\n",
       "      <th>17</th>\n",
       "      <td>0.0</td>\n",
       "      <td>0.0</td>\n",
       "      <td>0.0</td>\n",
       "      <td>0.0</td>\n",
       "      <td>0.0</td>\n",
       "      <td>0.0</td>\n",
       "      <td>0.0</td>\n",
       "      <td>0.0</td>\n",
       "      <td>0.0</td>\n",
       "      <td>0.0</td>\n",
       "      <td>...</td>\n",
       "      <td>0.0</td>\n",
       "      <td>0.0</td>\n",
       "      <td>0.0</td>\n",
       "      <td>0.0</td>\n",
       "      <td>0.0</td>\n",
       "      <td>0.0</td>\n",
       "      <td>0.0</td>\n",
       "      <td>0.0</td>\n",
       "      <td>0.0</td>\n",
       "      <td>0.0</td>\n",
       "    </tr>\n",
       "  </tbody>\n",
       "</table>\n",
       "<p>5 rows × 12160 columns</p>\n",
       "</div>"
      ],
      "text/plain": [
       "Element2  370    382    395    598    606    615    616    676    695    \\\n",
       "Element1                                                                  \n",
       "1           0.0    0.0    0.0    0.0    0.0    0.0    0.0    0.0    0.0   \n",
       "2           0.0    0.0    0.0    0.0    0.0    0.0    0.0    0.0    0.0   \n",
       "6           0.0    0.0    0.0    0.0    0.0    0.0    0.0    0.0    0.0   \n",
       "13          0.0    0.0    0.0    0.0    0.0    0.0    0.0    0.0    0.0   \n",
       "17          0.0    0.0    0.0    0.0    0.0    0.0    0.0    0.0    0.0   \n",
       "\n",
       "Element2  762    ...  78996  79014  79038  79043  79044  79051  79057  79058  \\\n",
       "Element1         ...                                                           \n",
       "1           0.0  ...    0.0    0.0    0.0    0.0    0.0    0.0    0.0    0.0   \n",
       "2           0.0  ...    0.0    0.0    0.0    0.0    0.0    0.0    0.0    0.0   \n",
       "6           0.0  ...    0.0    0.0    0.0    0.0    0.0    0.0    0.0    0.0   \n",
       "13          0.0  ...    0.0    0.0    0.0    0.0    0.0    0.0    0.0    0.0   \n",
       "17          0.0  ...    0.0    0.0    0.0    0.0    0.0    0.0    0.0    0.0   \n",
       "\n",
       "Element2  79062  79066  \n",
       "Element1                \n",
       "1           0.0    0.0  \n",
       "2           0.0    0.0  \n",
       "6           0.0    0.0  \n",
       "13          0.0    0.0  \n",
       "17          0.0    0.0  \n",
       "\n",
       "[5 rows x 12160 columns]"
      ]
     },
     "execution_count": 24,
     "metadata": {},
     "output_type": "execute_result"
    }
   ],
   "source": [
    "items_clicked.head()"
   ]
  },
  {
   "cell_type": "code",
   "execution_count": 25,
   "metadata": {},
   "outputs": [
    {
     "data": {
      "text/plain": [
       "(4925, 4943)"
      ]
     },
     "execution_count": 25,
     "metadata": {},
     "output_type": "execute_result"
    }
   ],
   "source": [
    "items_basket.shape"
   ]
  },
  {
   "cell_type": "code",
   "execution_count": 26,
   "metadata": {},
   "outputs": [],
   "source": [
    "#combine different scores with meaningful weights -> come up with weights\n",
    "dataexport = (items_clicked.add(items_basket,fill_value=0).add(items_ordered,fill_value=0) / 3)"
   ]
  },
  {
   "cell_type": "code",
   "execution_count": 27,
   "metadata": {
    "scrolled": true
   },
   "outputs": [
    {
     "data": {
      "text/plain": [
       "0.000000    12179\n",
       "0.001522        1\n",
       "Name: 370, dtype: int64"
      ]
     },
     "execution_count": 27,
     "metadata": {},
     "output_type": "execute_result"
    }
   ],
   "source": [
    "dataexport[370].value_counts()"
   ]
  },
  {
   "cell_type": "markdown",
   "metadata": {},
   "source": [
    "### Apriori Algorithm"
   ]
  },
  {
   "cell_type": "code",
   "execution_count": 40,
   "metadata": {},
   "outputs": [],
   "source": [
    "#### ALREADY DONE ABOVE\n",
    "### filter out items that are not needed\n",
    "### for apriori, only sublists, that contain at least one element from evaluation set, are needed, others create rules that are not needed\n",
    "#evaluation_list = list(evaluation['itemID'])\n",
    "#itemgroups_ordered_filtered = [item_list for item_list in itemgroups_by_session_ordered1 if any(i in item_list for i in evaluation_list)==True]\n",
    "#itemgroups_clicked_filtered = [item_list for item_list in itemgroups_by_session_clicked1 if any(i in item_list for i in evaluation_list)==True]\n",
    "#itemgroups_basket_filtered = [item_list for item_list in itemgroups_by_session_basket1 if any(i in item_list for i in evaluation_list)==True]"
   ]
  },
  {
   "cell_type": "code",
   "execution_count": 195,
   "metadata": {},
   "outputs": [],
   "source": [
    "# define minSup for apriori algorithm\n",
    "minSup_order = 3/len(itemgroups_ordered_filtered)\n",
    "minSup_basket = 5/len(itemgroups_basket_filtered)\n",
    "minSup_clicked = 15/len(itemgroups_clicked_filtered)"
   ]
  },
  {
   "cell_type": "markdown",
   "metadata": {},
   "source": [
    "#### apriori 'order'"
   ]
  },
  {
   "cell_type": "code",
   "execution_count": 196,
   "metadata": {},
   "outputs": [],
   "source": [
    "# run apriori algorithm on 'order' \n",
    "freqItemSet_order, rules_order = apriori(itemgroups_ordered_filtered, minSup= minSup_order , minConf= minSup_order)"
   ]
  },
  {
   "cell_type": "code",
   "execution_count": 116,
   "metadata": {},
   "outputs": [],
   "source": [
    "# load 'rules_order' from pickle\n",
    "#with open('apriori_rules_order_minSup3.pkl', 'rb') as f:\n",
    "#    rules_order = pickle.load(f)"
   ]
  },
  {
   "cell_type": "code",
   "execution_count": 222,
   "metadata": {},
   "outputs": [
    {
     "data": {
      "text/plain": [
       "{1: {frozenset({40692}),\n",
       "  frozenset({14314}),\n",
       "  frozenset({70842}),\n",
       "  frozenset({22764}),\n",
       "  frozenset({70197}),\n",
       "  frozenset({52146}),\n",
       "  frozenset({64901}),\n",
       "  frozenset({5739}),\n",
       "  frozenset({69093}),\n",
       "  frozenset({42715}),\n",
       "  frozenset({25663}),\n",
       "  frozenset({52355}),\n",
       "  frozenset({10482}),\n",
       "  frozenset({71747}),\n",
       "  frozenset({74398}),\n",
       "  frozenset({25971}),\n",
       "  frozenset({11609}),\n",
       "  frozenset({1136}),\n",
       "  frozenset({4833}),\n",
       "  frozenset({3259}),\n",
       "  frozenset({45238}),\n",
       "  frozenset({77255}),\n",
       "  frozenset({45285}),\n",
       "  frozenset({62060})},\n",
       " 2: {frozenset({5739, 64901}),\n",
       "  frozenset({4833, 22764}),\n",
       "  frozenset({4833, 77255}),\n",
       "  frozenset({14314, 25971}),\n",
       "  frozenset({22764, 64901}),\n",
       "  frozenset({14314, 77255}),\n",
       "  frozenset({5739, 22764}),\n",
       "  frozenset({10482, 69093}),\n",
       "  frozenset({52355, 64901}),\n",
       "  frozenset({4833, 52355}),\n",
       "  frozenset({5739, 52355}),\n",
       "  frozenset({1136, 62060}),\n",
       "  frozenset({70197, 70842}),\n",
       "  frozenset({3259, 40692}),\n",
       "  frozenset({4833, 14314}),\n",
       "  frozenset({22764, 52355}),\n",
       "  frozenset({4833, 64901}),\n",
       "  frozenset({4833, 5739}),\n",
       "  frozenset({10482, 45285})},\n",
       " 3: {frozenset({4833, 14314, 77255}),\n",
       "  frozenset({5739, 22764, 52355}),\n",
       "  frozenset({4833, 22764, 52355}),\n",
       "  frozenset({5739, 52355, 64901}),\n",
       "  frozenset({4833, 5739, 52355}),\n",
       "  frozenset({22764, 52355, 64901}),\n",
       "  frozenset({4833, 52355, 64901}),\n",
       "  frozenset({4833, 5739, 22764}),\n",
       "  frozenset({5739, 22764, 64901}),\n",
       "  frozenset({4833, 5739, 64901}),\n",
       "  frozenset({4833, 22764, 64901})},\n",
       " 4: {frozenset({4833, 5739, 22764, 64901}),\n",
       "  frozenset({4833, 5739, 22764, 52355}),\n",
       "  frozenset({4833, 5739, 52355, 64901}),\n",
       "  frozenset({5739, 22764, 52355, 64901}),\n",
       "  frozenset({4833, 22764, 52355, 64901})},\n",
       " 5: {frozenset({4833, 5739, 22764, 52355, 64901})}}"
      ]
     },
     "execution_count": 222,
     "metadata": {},
     "output_type": "execute_result"
    }
   ],
   "source": [
    "freqItemSet_order"
   ]
  },
  {
   "cell_type": "markdown",
   "metadata": {},
   "source": [
    "#### apriori 'basket'"
   ]
  },
  {
   "cell_type": "code",
   "execution_count": 198,
   "metadata": {},
   "outputs": [],
   "source": [
    "# run apriori algorithm on 'basket'\n",
    "freqItemSet_basket, rules_basket = apriori(itemgroups_basket_filtered, minSup= minSup_basket , minConf= minSup_basket)"
   ]
  },
  {
   "cell_type": "code",
   "execution_count": 118,
   "metadata": {},
   "outputs": [],
   "source": [
    "# load 'rules_basket' from pickle\n",
    "#with open('apriori_rules_basket_minSup5.pkl', 'rb') as f:\n",
    "#    rules_basket = pickle.load(f)"
   ]
  },
  {
   "cell_type": "markdown",
   "metadata": {},
   "source": [
    "#### apriori 'click'"
   ]
  },
  {
   "cell_type": "code",
   "execution_count": 200,
   "metadata": {},
   "outputs": [],
   "source": [
    "# run apriori algorithm on 'click' --> long computing time\n",
    "freqItemSet_click, rules_click = apriori(itemgroups_clicked_filtered, minSup= minSup_clicked , minConf= minSup_clicked)"
   ]
  },
  {
   "cell_type": "code",
   "execution_count": 201,
   "metadata": {},
   "outputs": [],
   "source": [
    "# load 'rules_click' from pickle\n",
    "#with open('apriori_rules_click_minSup15.pkl', 'rb') as f:\n",
    "#    rules_click = pickle.load(f)"
   ]
  },
  {
   "cell_type": "markdown",
   "metadata": {},
   "source": [
    "#### process apriori rules for use"
   ]
  },
  {
   "cell_type": "code",
   "execution_count": 203,
   "metadata": {},
   "outputs": [],
   "source": [
    "### delete all rules that contain more than 1 element on left side of rule\n",
    "rules_order_1elem = [i for i in rules_order if len(i[0])==1]\n",
    "rules_basket_1elem = [i for i in rules_basket if len(i[0])==1]\n",
    "rules_click_1elem = [i for i in rules_click if len(i[0])==1]"
   ]
  },
  {
   "cell_type": "code",
   "execution_count": 204,
   "metadata": {},
   "outputs": [],
   "source": [
    "### check how long right side of rule is\n",
    "#len(max(df_rules_click['recommendation'], key = len))"
   ]
  },
  {
   "cell_type": "code",
   "execution_count": 205,
   "metadata": {},
   "outputs": [],
   "source": [
    "### save rules_order to dataframe\n",
    "df_rules_order = pd.DataFrame(rules_order_1elem, columns=['item_ID', 'recommendation', 'rule_confidence'])\n",
    "\n",
    "# structure dataframe for rules_order\n",
    "df_rules_order[['item_ID']] = pd.DataFrame(df_rules_order.item_ID.tolist(), index= df_rules_order.index)\n",
    "df_rules_order[['Recommendation1','Recommendation2', 'Recommendation3', 'Recommendation4']] = pd.DataFrame(df_rules_order.recommendation.tolist(), index= df_rules_order.index)\n",
    "df_rules_order = df_rules_order.drop(columns=['recommendation'])"
   ]
  },
  {
   "cell_type": "code",
   "execution_count": 206,
   "metadata": {},
   "outputs": [],
   "source": [
    "### save rules_basket to dataframe\n",
    "df_rules_basket = pd.DataFrame(rules_basket_1elem, columns =['item_ID', 'recommendation', 'rule_confidence'])\n",
    "\n",
    "# structure dataframe for rules_order\n",
    "df_rules_basket[['item_ID']] = pd.DataFrame(df_rules_basket.item_ID.tolist(), index= df_rules_basket.index)\n",
    "df_rules_basket[['Recommendation1','Recommendation2', 'Recommendation3', 'Recommendation4']] = pd.DataFrame(df_rules_basket.recommendation.tolist(), index= df_rules_basket.index)\n",
    "df_rules_basket = df_rules_basket.drop(columns=['recommendation'])"
   ]
  },
  {
   "cell_type": "code",
   "execution_count": 207,
   "metadata": {},
   "outputs": [],
   "source": [
    "### save rules_click to dataframe\n",
    "df_rules_click = pd.DataFrame(rules_click_1elem, columns =['item_ID', 'recommendation', 'rule_confidence'])\n",
    "\n",
    "# structure dataframe for rules_order\n",
    "df_rules_click[['item_ID']] = pd.DataFrame(df_rules_click.item_ID.tolist(), index= df_rules_click.index)\n",
    "df_rules_click[['Recommendation1','Recommendation2']] = pd.DataFrame(df_rules_click.recommendation.tolist(), index= df_rules_click.index)\n",
    "df_rules_click = df_rules_click.drop(columns=['recommendation'])"
   ]
  },
  {
   "cell_type": "code",
   "execution_count": 208,
   "metadata": {},
   "outputs": [],
   "source": [
    "# save to pickle file\n",
    "#\"\"\"\n",
    "with open('apriori_rules_order_minSup_3.pkl', 'wb') as f:\n",
    "    pickle.dump(df_rules_order, f)\n",
    "#\"\"\" "
   ]
  },
  {
   "cell_type": "code",
   "execution_count": 209,
   "metadata": {},
   "outputs": [],
   "source": [
    "# save to pickle file\n",
    "#\"\"\"\n",
    "with open('apriori_rules_basket_minSup_5.pkl', 'wb') as f:\n",
    "    pickle.dump(df_rules_basket, f)\n",
    "#\"\"\" "
   ]
  },
  {
   "cell_type": "code",
   "execution_count": 210,
   "metadata": {},
   "outputs": [],
   "source": [
    "# save to pickle file\n",
    "#\"\"\"\n",
    "with open('apriori_rules_click_minSup_15.pkl', 'wb') as f:\n",
    "    pickle.dump(df_rules_click, f)\n",
    "#\"\"\" "
   ]
  },
  {
   "cell_type": "markdown",
   "metadata": {},
   "source": [
    "#### write each item in a list into an own column -> not relevant right now"
   ]
  },
  {
   "cell_type": "code",
   "execution_count": 211,
   "metadata": {},
   "outputs": [],
   "source": [
    "# for clicks:\n",
    "itemgroups_by_session_clicked1_cols = pd.DataFrame(itemgroups_by_session_clicked1.tolist(), index= itemgroups_by_session_clicked1.index)\n",
    "# for basket:\n",
    "itemgroups_by_session_basket1_cols = pd.DataFrame(itemgroups_by_session_basket1.tolist(), index= itemgroups_by_session_basket1.index)\n",
    "# for ordered: \n",
    "itemgroups_by_session_ordered1_cols = pd.DataFrame(itemgroups_by_session_ordered1.tolist(), index= itemgroups_by_session_ordered1.index)"
   ]
  },
  {
   "cell_type": "markdown",
   "metadata": {},
   "source": [
    "### total occurences of book clicks / baskets / orders"
   ]
  },
  {
   "cell_type": "code",
   "execution_count": 212,
   "metadata": {},
   "outputs": [],
   "source": [
    "tx_item_sums = tx.groupby('itemID').agg({'click':'sum', 'basket':'sum', 'order': 'sum'})"
   ]
  },
  {
   "cell_type": "code",
   "execution_count": 213,
   "metadata": {},
   "outputs": [
    {
     "data": {
      "text/html": [
       "<div>\n",
       "<style scoped>\n",
       "    .dataframe tbody tr th:only-of-type {\n",
       "        vertical-align: middle;\n",
       "    }\n",
       "\n",
       "    .dataframe tbody tr th {\n",
       "        vertical-align: top;\n",
       "    }\n",
       "\n",
       "    .dataframe thead th {\n",
       "        text-align: right;\n",
       "    }\n",
       "</style>\n",
       "<table border=\"1\" class=\"dataframe\">\n",
       "  <thead>\n",
       "    <tr style=\"text-align: right;\">\n",
       "      <th></th>\n",
       "      <th>click</th>\n",
       "      <th>basket</th>\n",
       "      <th>order</th>\n",
       "    </tr>\n",
       "    <tr>\n",
       "      <th>itemID</th>\n",
       "      <th></th>\n",
       "      <th></th>\n",
       "      <th></th>\n",
       "    </tr>\n",
       "  </thead>\n",
       "  <tbody>\n",
       "    <tr>\n",
       "      <th>1</th>\n",
       "      <td>2</td>\n",
       "      <td>0</td>\n",
       "      <td>0</td>\n",
       "    </tr>\n",
       "    <tr>\n",
       "      <th>2</th>\n",
       "      <td>17</td>\n",
       "      <td>0</td>\n",
       "      <td>0</td>\n",
       "    </tr>\n",
       "    <tr>\n",
       "      <th>6</th>\n",
       "      <td>11</td>\n",
       "      <td>0</td>\n",
       "      <td>0</td>\n",
       "    </tr>\n",
       "    <tr>\n",
       "      <th>7</th>\n",
       "      <td>3</td>\n",
       "      <td>0</td>\n",
       "      <td>0</td>\n",
       "    </tr>\n",
       "    <tr>\n",
       "      <th>10</th>\n",
       "      <td>14</td>\n",
       "      <td>1</td>\n",
       "      <td>0</td>\n",
       "    </tr>\n",
       "  </tbody>\n",
       "</table>\n",
       "</div>"
      ],
      "text/plain": [
       "        click  basket  order\n",
       "itemID                      \n",
       "1           2       0      0\n",
       "2          17       0      0\n",
       "6          11       0      0\n",
       "7           3       0      0\n",
       "10         14       1      0"
      ]
     },
     "execution_count": 213,
     "metadata": {},
     "output_type": "execute_result"
    }
   ],
   "source": [
    "tx_item_sums.head()"
   ]
  },
  {
   "cell_type": "code",
   "execution_count": 214,
   "metadata": {
    "scrolled": true
   },
   "outputs": [],
   "source": [
    "### apply log to get less skewed data\n",
    "# click log\n",
    "click_log = np.log(tx_item_sums.click + 1)\n",
    "#click_log.describe()\n",
    "# basket log\n",
    "basket_log = np.log(tx_item_sums.basket + 1)\n",
    "# order log\n",
    "order_log = np.log(tx_item_sums.order + 1)"
   ]
  },
  {
   "cell_type": "code",
   "execution_count": 215,
   "metadata": {},
   "outputs": [],
   "source": [
    "# add log cols to dataframe\n",
    "tx_item_sums['click_log'] = click_log\n",
    "tx_item_sums['basket_log'] = basket_log\n",
    "tx_item_sums['order_log'] = order_log"
   ]
  },
  {
   "cell_type": "code",
   "execution_count": 216,
   "metadata": {},
   "outputs": [
    {
     "data": {
      "text/plain": [
       "count    24909.000000\n",
       "mean         0.242591\n",
       "std          0.553072\n",
       "min          0.000000\n",
       "25%          0.000000\n",
       "50%          0.000000\n",
       "75%          0.000000\n",
       "max          5.141664\n",
       "Name: order_log, dtype: float64"
      ]
     },
     "execution_count": 216,
     "metadata": {},
     "output_type": "execute_result"
    }
   ],
   "source": [
    "tx_item_sums.order_log.describe()"
   ]
  },
  {
   "cell_type": "code",
   "execution_count": 217,
   "metadata": {},
   "outputs": [],
   "source": [
    "# min max normalization\n",
    "tx_item_sums_norm = (0.9*(tx_item_sums - tx_item_sums.min())/(tx_item_sums.max()-tx_item_sums.min()))+0.1"
   ]
  },
  {
   "cell_type": "code",
   "execution_count": 218,
   "metadata": {},
   "outputs": [],
   "source": [
    "# mean normalization\n",
    "#tx_item_sums_norm = (tx_item_sums - tx_item_sums.mean()) / tx_item_sums.std()"
   ]
  },
  {
   "cell_type": "code",
   "execution_count": 219,
   "metadata": {
    "scrolled": true
   },
   "outputs": [
    {
     "data": {
      "text/html": [
       "<div>\n",
       "<style scoped>\n",
       "    .dataframe tbody tr th:only-of-type {\n",
       "        vertical-align: middle;\n",
       "    }\n",
       "\n",
       "    .dataframe tbody tr th {\n",
       "        vertical-align: top;\n",
       "    }\n",
       "\n",
       "    .dataframe thead th {\n",
       "        text-align: right;\n",
       "    }\n",
       "</style>\n",
       "<table border=\"1\" class=\"dataframe\">\n",
       "  <thead>\n",
       "    <tr style=\"text-align: right;\">\n",
       "      <th></th>\n",
       "      <th>click</th>\n",
       "      <th>basket</th>\n",
       "      <th>order</th>\n",
       "      <th>click_log</th>\n",
       "      <th>basket_log</th>\n",
       "      <th>order_log</th>\n",
       "    </tr>\n",
       "  </thead>\n",
       "  <tbody>\n",
       "    <tr>\n",
       "      <th>count</th>\n",
       "      <td>24909.000000</td>\n",
       "      <td>24909.000000</td>\n",
       "      <td>24909.000000</td>\n",
       "      <td>24909.000000</td>\n",
       "      <td>24909.000000</td>\n",
       "      <td>24909.000000</td>\n",
       "    </tr>\n",
       "    <tr>\n",
       "      <th>mean</th>\n",
       "      <td>0.105039</td>\n",
       "      <td>0.103120</td>\n",
       "      <td>0.103756</td>\n",
       "      <td>0.304219</td>\n",
       "      <td>0.168430</td>\n",
       "      <td>0.142463</td>\n",
       "    </tr>\n",
       "    <tr>\n",
       "      <th>std</th>\n",
       "      <td>0.019336</td>\n",
       "      <td>0.015207</td>\n",
       "      <td>0.018291</td>\n",
       "      <td>0.135609</td>\n",
       "      <td>0.115702</td>\n",
       "      <td>0.096810</td>\n",
       "    </tr>\n",
       "    <tr>\n",
       "      <th>min</th>\n",
       "      <td>0.100000</td>\n",
       "      <td>0.100000</td>\n",
       "      <td>0.100000</td>\n",
       "      <td>0.100000</td>\n",
       "      <td>0.100000</td>\n",
       "      <td>0.100000</td>\n",
       "    </tr>\n",
       "    <tr>\n",
       "      <th>25%</th>\n",
       "      <td>0.100279</td>\n",
       "      <td>0.100000</td>\n",
       "      <td>0.100000</td>\n",
       "      <td>0.177205</td>\n",
       "      <td>0.100000</td>\n",
       "      <td>0.100000</td>\n",
       "    </tr>\n",
       "    <tr>\n",
       "      <th>50%</th>\n",
       "      <td>0.100836</td>\n",
       "      <td>0.100000</td>\n",
       "      <td>0.100000</td>\n",
       "      <td>0.254409</td>\n",
       "      <td>0.100000</td>\n",
       "      <td>0.100000</td>\n",
       "    </tr>\n",
       "    <tr>\n",
       "      <th>75%</th>\n",
       "      <td>0.103066</td>\n",
       "      <td>0.101508</td>\n",
       "      <td>0.100000</td>\n",
       "      <td>0.376776</td>\n",
       "      <td>0.197572</td>\n",
       "      <td>0.100000</td>\n",
       "    </tr>\n",
       "    <tr>\n",
       "      <th>max</th>\n",
       "      <td>1.000000</td>\n",
       "      <td>1.000000</td>\n",
       "      <td>1.000000</td>\n",
       "      <td>1.000000</td>\n",
       "      <td>1.000000</td>\n",
       "      <td>1.000000</td>\n",
       "    </tr>\n",
       "  </tbody>\n",
       "</table>\n",
       "</div>"
      ],
      "text/plain": [
       "              click        basket         order     click_log    basket_log  \\\n",
       "count  24909.000000  24909.000000  24909.000000  24909.000000  24909.000000   \n",
       "mean       0.105039      0.103120      0.103756      0.304219      0.168430   \n",
       "std        0.019336      0.015207      0.018291      0.135609      0.115702   \n",
       "min        0.100000      0.100000      0.100000      0.100000      0.100000   \n",
       "25%        0.100279      0.100000      0.100000      0.177205      0.100000   \n",
       "50%        0.100836      0.100000      0.100000      0.254409      0.100000   \n",
       "75%        0.103066      0.101508      0.100000      0.376776      0.197572   \n",
       "max        1.000000      1.000000      1.000000      1.000000      1.000000   \n",
       "\n",
       "          order_log  \n",
       "count  24909.000000  \n",
       "mean       0.142463  \n",
       "std        0.096810  \n",
       "min        0.100000  \n",
       "25%        0.100000  \n",
       "50%        0.100000  \n",
       "75%        0.100000  \n",
       "max        1.000000  "
      ]
     },
     "execution_count": 219,
     "metadata": {},
     "output_type": "execute_result"
    }
   ],
   "source": [
    "tx_item_sums_norm.describe()"
   ]
  },
  {
   "cell_type": "code",
   "execution_count": 220,
   "metadata": {},
   "outputs": [],
   "source": [
    "# save to pickle file\n",
    "#\"\"\"\n",
    "with open('df_total_occurences_norm.pkl', 'wb') as f:\n",
    "    pickle.dump(tx_item_sums_norm, f)\n",
    "#\"\"\" "
   ]
  }
 ],
 "metadata": {
  "kernelspec": {
   "display_name": "Python 3",
   "language": "python",
   "name": "python3"
  },
  "language_info": {
   "codemirror_mode": {
    "name": "ipython",
    "version": 3
   },
   "file_extension": ".py",
   "mimetype": "text/x-python",
   "name": "python",
   "nbconvert_exporter": "python",
   "pygments_lexer": "ipython3",
   "version": "3.8.5"
  }
 },
 "nbformat": 4,
 "nbformat_minor": 4
}
